{
 "cells": [
  {
   "cell_type": "code",
   "execution_count": 2,
   "id": "6ff3bb01",
   "metadata": {},
   "outputs": [
    {
     "name": "stderr",
     "output_type": "stream",
     "text": [
      "/Users/kelly.rice/opt/anaconda3/envs/pillowtalk_env/lib/python3.7/site-packages/paramiko/transport.py:219: CryptographyDeprecationWarning: Blowfish has been deprecated\n",
      "  \"class\": algorithms.Blowfish,\n"
     ]
    }
   ],
   "source": [
    "#importing dependencies\n",
    "import pandas as pd\n",
    "import numpy as np\n",
    "import hashlib\n",
    "from pillowtalk import RedshiftStorageDB, GoogleSheetsWorkbook\n",
    "from pillowtalk import RedshiftComputeDB"
   ]
  },
  {
   "cell_type": "code",
   "execution_count": 2,
   "id": "21247819",
   "metadata": {},
   "outputs": [
    {
     "data": {
      "text/html": [
       "<div>\n",
       "<style scoped>\n",
       "    .dataframe tbody tr th:only-of-type {\n",
       "        vertical-align: middle;\n",
       "    }\n",
       "\n",
       "    .dataframe tbody tr th {\n",
       "        vertical-align: top;\n",
       "    }\n",
       "\n",
       "    .dataframe thead th {\n",
       "        text-align: right;\n",
       "    }\n",
       "</style>\n",
       "<table border=\"1\" class=\"dataframe\">\n",
       "  <thead>\n",
       "    <tr style=\"text-align: right;\">\n",
       "      <th></th>\n",
       "      <th>ï»¿</th>\n",
       "      <th>ConversionDate</th>\n",
       "      <th>Md5CUS</th>\n",
       "      <th>OrderNumberCUS</th>\n",
       "    </tr>\n",
       "  </thead>\n",
       "  <tbody>\n",
       "    <tr>\n",
       "      <th>0</th>\n",
       "      <td>0</td>\n",
       "      <td>2023-03-19</td>\n",
       "      <td>e1a5766ee1d273e73f4a943a0d12a35c</td>\n",
       "      <td>R545305888</td>\n",
       "    </tr>\n",
       "    <tr>\n",
       "      <th>1</th>\n",
       "      <td>1</td>\n",
       "      <td>2023-03-15</td>\n",
       "      <td>a32acee976888100e74dcda8f409fee2</td>\n",
       "      <td>C00470349</td>\n",
       "    </tr>\n",
       "    <tr>\n",
       "      <th>2</th>\n",
       "      <td>2</td>\n",
       "      <td>2023-03-16</td>\n",
       "      <td>d634ad53f3838117593ba4793adde7c1</td>\n",
       "      <td>C00470881</td>\n",
       "    </tr>\n",
       "    <tr>\n",
       "      <th>3</th>\n",
       "      <td>3</td>\n",
       "      <td>2023-01-04</td>\n",
       "      <td>1a22bb418515935568e30623790b0ecd</td>\n",
       "      <td>R503929753</td>\n",
       "    </tr>\n",
       "    <tr>\n",
       "      <th>4</th>\n",
       "      <td>4</td>\n",
       "      <td>2023-01-04</td>\n",
       "      <td>1a22bb418515935568e30623790b0ecd</td>\n",
       "      <td>R503929753</td>\n",
       "    </tr>\n",
       "  </tbody>\n",
       "</table>\n",
       "</div>"
      ],
      "text/plain": [
       "   ï»¿ ConversionDate                            Md5CUS OrderNumberCUS\n",
       "0    0     2023-03-19  e1a5766ee1d273e73f4a943a0d12a35c     R545305888\n",
       "1    1     2023-03-15  a32acee976888100e74dcda8f409fee2      C00470349\n",
       "2    2     2023-03-16  d634ad53f3838117593ba4793adde7c1      C00470881\n",
       "3    3     2023-01-04  1a22bb418515935568e30623790b0ecd     R503929753\n",
       "4    4     2023-01-04  1a22bb418515935568e30623790b0ecd     R503929753"
      ]
     },
     "execution_count": 2,
     "metadata": {},
     "output_type": "execute_result"
    }
   ],
   "source": [
    "# reading CTR conversions doc \n",
    "ctr_df = pd.read_csv('CTR_conversions.csv', index_col=False, encoding=\"ISO-8859-1\")\n",
    "ctr_df.head()"
   ]
  },
  {
   "cell_type": "code",
   "execution_count": 3,
   "id": "780dc7a4",
   "metadata": {},
   "outputs": [
    {
     "data": {
      "text/html": [
       "<div>\n",
       "<style scoped>\n",
       "    .dataframe tbody tr th:only-of-type {\n",
       "        vertical-align: middle;\n",
       "    }\n",
       "\n",
       "    .dataframe tbody tr th {\n",
       "        vertical-align: top;\n",
       "    }\n",
       "\n",
       "    .dataframe thead th {\n",
       "        text-align: right;\n",
       "    }\n",
       "</style>\n",
       "<table border=\"1\" class=\"dataframe\">\n",
       "  <thead>\n",
       "    <tr style=\"text-align: right;\">\n",
       "      <th></th>\n",
       "      <th>ConversionDate</th>\n",
       "      <th>Md5CUS</th>\n",
       "      <th>OrderNumberCUS</th>\n",
       "    </tr>\n",
       "  </thead>\n",
       "  <tbody>\n",
       "    <tr>\n",
       "      <th>0</th>\n",
       "      <td>2023-03-19</td>\n",
       "      <td>e1a5766ee1d273e73f4a943a0d12a35c</td>\n",
       "      <td>R545305888</td>\n",
       "    </tr>\n",
       "    <tr>\n",
       "      <th>1</th>\n",
       "      <td>2023-03-15</td>\n",
       "      <td>a32acee976888100e74dcda8f409fee2</td>\n",
       "      <td>C00470349</td>\n",
       "    </tr>\n",
       "    <tr>\n",
       "      <th>2</th>\n",
       "      <td>2023-03-16</td>\n",
       "      <td>d634ad53f3838117593ba4793adde7c1</td>\n",
       "      <td>C00470881</td>\n",
       "    </tr>\n",
       "    <tr>\n",
       "      <th>3</th>\n",
       "      <td>2023-01-04</td>\n",
       "      <td>1a22bb418515935568e30623790b0ecd</td>\n",
       "      <td>R503929753</td>\n",
       "    </tr>\n",
       "    <tr>\n",
       "      <th>4</th>\n",
       "      <td>2023-01-04</td>\n",
       "      <td>1a22bb418515935568e30623790b0ecd</td>\n",
       "      <td>R503929753</td>\n",
       "    </tr>\n",
       "  </tbody>\n",
       "</table>\n",
       "</div>"
      ],
      "text/plain": [
       "  ConversionDate                            Md5CUS OrderNumberCUS\n",
       "0     2023-03-19  e1a5766ee1d273e73f4a943a0d12a35c     R545305888\n",
       "1     2023-03-15  a32acee976888100e74dcda8f409fee2      C00470349\n",
       "2     2023-03-16  d634ad53f3838117593ba4793adde7c1      C00470881\n",
       "3     2023-01-04  1a22bb418515935568e30623790b0ecd     R503929753\n",
       "4     2023-01-04  1a22bb418515935568e30623790b0ecd     R503929753"
      ]
     },
     "execution_count": 3,
     "metadata": {},
     "output_type": "execute_result"
    }
   ],
   "source": [
    "# cleaning up\n",
    "ctr_df.drop(columns=ctr_df.columns[0], axis=1,  inplace=True)\n",
    "ctr_df.head()"
   ]
  },
  {
   "cell_type": "code",
   "execution_count": 4,
   "id": "6db7eee0",
   "metadata": {},
   "outputs": [
    {
     "data": {
      "text/plain": [
       "ConversionDate    object\n",
       "Md5CUS            object\n",
       "OrderNumberCUS    object\n",
       "dtype: object"
      ]
     },
     "execution_count": 4,
     "metadata": {},
     "output_type": "execute_result"
    }
   ],
   "source": [
    "# checking data types \n",
    "ctr_df.dtypes"
   ]
  },
  {
   "cell_type": "code",
   "execution_count": 5,
   "id": "675de70d",
   "metadata": {},
   "outputs": [],
   "source": [
    "# converting date column to datetime\n",
    "ctr_df[\"ConversionDate\"] = pd.to_datetime(ctr_df[\"ConversionDate\"])"
   ]
  },
  {
   "cell_type": "code",
   "execution_count": 6,
   "id": "0bcf20a5",
   "metadata": {},
   "outputs": [
    {
     "data": {
      "text/plain": [
       "ConversionDate    datetime64[ns]\n",
       "Md5CUS                    object\n",
       "OrderNumberCUS            object\n",
       "dtype: object"
      ]
     },
     "execution_count": 6,
     "metadata": {},
     "output_type": "execute_result"
    }
   ],
   "source": [
    "# checking data types \n",
    "ctr_df.dtypes"
   ]
  },
  {
   "cell_type": "code",
   "execution_count": 7,
   "id": "ba5d7e14",
   "metadata": {},
   "outputs": [
    {
     "data": {
      "text/plain": [
       "(268, 3)"
      ]
     },
     "execution_count": 7,
     "metadata": {},
     "output_type": "execute_result"
    }
   ],
   "source": [
    "# checking df shape\n",
    "ctr_df.shape"
   ]
  },
  {
   "cell_type": "code",
   "execution_count": 8,
   "id": "e45136e7",
   "metadata": {},
   "outputs": [],
   "source": [
    "# reading in TRT conversions doc\n",
    "trt_df = pd.read_csv('TRT_conversions.csv', index_col=False, encoding=\"ISO-8859-1\")\n"
   ]
  },
  {
   "cell_type": "code",
   "execution_count": 9,
   "id": "27c4cd62",
   "metadata": {},
   "outputs": [
    {
     "data": {
      "text/html": [
       "<div>\n",
       "<style scoped>\n",
       "    .dataframe tbody tr th:only-of-type {\n",
       "        vertical-align: middle;\n",
       "    }\n",
       "\n",
       "    .dataframe tbody tr th {\n",
       "        vertical-align: top;\n",
       "    }\n",
       "\n",
       "    .dataframe thead th {\n",
       "        text-align: right;\n",
       "    }\n",
       "</style>\n",
       "<table border=\"1\" class=\"dataframe\">\n",
       "  <thead>\n",
       "    <tr style=\"text-align: right;\">\n",
       "      <th></th>\n",
       "      <th>ï»¿</th>\n",
       "      <th>ConversionDate</th>\n",
       "      <th>Md5CUS</th>\n",
       "      <th>OrderNumberCUS</th>\n",
       "    </tr>\n",
       "  </thead>\n",
       "  <tbody>\n",
       "    <tr>\n",
       "      <th>0</th>\n",
       "      <td>0</td>\n",
       "      <td>2023-03-18</td>\n",
       "      <td>12ebd8f03227f75b34380ccf36935a26</td>\n",
       "      <td>R613121082</td>\n",
       "    </tr>\n",
       "    <tr>\n",
       "      <th>1</th>\n",
       "      <td>1</td>\n",
       "      <td>2023-03-18</td>\n",
       "      <td>12ebd8f03227f75b34380ccf36935a26</td>\n",
       "      <td>R613121082</td>\n",
       "    </tr>\n",
       "    <tr>\n",
       "      <th>2</th>\n",
       "      <td>2</td>\n",
       "      <td>2023-02-13</td>\n",
       "      <td>245ef5a850fdd154b90af7b2eefea0e3</td>\n",
       "      <td>C00455768</td>\n",
       "    </tr>\n",
       "    <tr>\n",
       "      <th>3</th>\n",
       "      <td>3</td>\n",
       "      <td>2023-01-27</td>\n",
       "      <td>27dc3c024600dfcd0cf7bc48baefe62c</td>\n",
       "      <td>R588323820</td>\n",
       "    </tr>\n",
       "    <tr>\n",
       "      <th>4</th>\n",
       "      <td>4</td>\n",
       "      <td>2023-02-03</td>\n",
       "      <td>27dc3c024600dfcd0cf7bc48baefe62c</td>\n",
       "      <td>C00451196</td>\n",
       "    </tr>\n",
       "  </tbody>\n",
       "</table>\n",
       "</div>"
      ],
      "text/plain": [
       "   ï»¿ ConversionDate                            Md5CUS OrderNumberCUS\n",
       "0    0     2023-03-18  12ebd8f03227f75b34380ccf36935a26     R613121082\n",
       "1    1     2023-03-18  12ebd8f03227f75b34380ccf36935a26     R613121082\n",
       "2    2     2023-02-13  245ef5a850fdd154b90af7b2eefea0e3      C00455768\n",
       "3    3     2023-01-27  27dc3c024600dfcd0cf7bc48baefe62c     R588323820\n",
       "4    4     2023-02-03  27dc3c024600dfcd0cf7bc48baefe62c      C00451196"
      ]
     },
     "execution_count": 9,
     "metadata": {},
     "output_type": "execute_result"
    }
   ],
   "source": [
    "# viewing\n",
    "trt_df.head()"
   ]
  },
  {
   "cell_type": "code",
   "execution_count": 10,
   "id": "1c2e389c",
   "metadata": {},
   "outputs": [],
   "source": [
    "# cleaning up DF \n",
    "trt_df.drop(columns= trt_df.columns[0], axis=1,  inplace=True)\n",
    "trt_df[\"ConversionDate\"] = pd.to_datetime(trt_df[\"ConversionDate\"])"
   ]
  },
  {
   "cell_type": "code",
   "execution_count": 11,
   "id": "a7580963",
   "metadata": {},
   "outputs": [
    {
     "data": {
      "text/html": [
       "<div>\n",
       "<style scoped>\n",
       "    .dataframe tbody tr th:only-of-type {\n",
       "        vertical-align: middle;\n",
       "    }\n",
       "\n",
       "    .dataframe tbody tr th {\n",
       "        vertical-align: top;\n",
       "    }\n",
       "\n",
       "    .dataframe thead th {\n",
       "        text-align: right;\n",
       "    }\n",
       "</style>\n",
       "<table border=\"1\" class=\"dataframe\">\n",
       "  <thead>\n",
       "    <tr style=\"text-align: right;\">\n",
       "      <th></th>\n",
       "      <th>ConversionDate</th>\n",
       "      <th>Md5CUS</th>\n",
       "      <th>OrderNumberCUS</th>\n",
       "    </tr>\n",
       "  </thead>\n",
       "  <tbody>\n",
       "    <tr>\n",
       "      <th>0</th>\n",
       "      <td>2023-03-18</td>\n",
       "      <td>12ebd8f03227f75b34380ccf36935a26</td>\n",
       "      <td>R613121082</td>\n",
       "    </tr>\n",
       "    <tr>\n",
       "      <th>1</th>\n",
       "      <td>2023-03-18</td>\n",
       "      <td>12ebd8f03227f75b34380ccf36935a26</td>\n",
       "      <td>R613121082</td>\n",
       "    </tr>\n",
       "    <tr>\n",
       "      <th>2</th>\n",
       "      <td>2023-02-13</td>\n",
       "      <td>245ef5a850fdd154b90af7b2eefea0e3</td>\n",
       "      <td>C00455768</td>\n",
       "    </tr>\n",
       "    <tr>\n",
       "      <th>3</th>\n",
       "      <td>2023-01-27</td>\n",
       "      <td>27dc3c024600dfcd0cf7bc48baefe62c</td>\n",
       "      <td>R588323820</td>\n",
       "    </tr>\n",
       "    <tr>\n",
       "      <th>4</th>\n",
       "      <td>2023-02-03</td>\n",
       "      <td>27dc3c024600dfcd0cf7bc48baefe62c</td>\n",
       "      <td>C00451196</td>\n",
       "    </tr>\n",
       "  </tbody>\n",
       "</table>\n",
       "</div>"
      ],
      "text/plain": [
       "  ConversionDate                            Md5CUS OrderNumberCUS\n",
       "0     2023-03-18  12ebd8f03227f75b34380ccf36935a26     R613121082\n",
       "1     2023-03-18  12ebd8f03227f75b34380ccf36935a26     R613121082\n",
       "2     2023-02-13  245ef5a850fdd154b90af7b2eefea0e3      C00455768\n",
       "3     2023-01-27  27dc3c024600dfcd0cf7bc48baefe62c     R588323820\n",
       "4     2023-02-03  27dc3c024600dfcd0cf7bc48baefe62c      C00451196"
      ]
     },
     "execution_count": 11,
     "metadata": {},
     "output_type": "execute_result"
    }
   ],
   "source": [
    "# viewing\n",
    "trt_df.head()"
   ]
  },
  {
   "cell_type": "code",
   "execution_count": 12,
   "id": "7cb48367",
   "metadata": {},
   "outputs": [
    {
     "data": {
      "text/plain": [
       "ConversionDate    datetime64[ns]\n",
       "Md5CUS                    object\n",
       "OrderNumberCUS            object\n",
       "dtype: object"
      ]
     },
     "execution_count": 12,
     "metadata": {},
     "output_type": "execute_result"
    }
   ],
   "source": [
    "#checking data types \n",
    "trt_df.dtypes"
   ]
  },
  {
   "cell_type": "code",
   "execution_count": 13,
   "id": "79665735",
   "metadata": {},
   "outputs": [
    {
     "data": {
      "text/plain": [
       "(10383, 3)"
      ]
     },
     "execution_count": 13,
     "metadata": {},
     "output_type": "execute_result"
    }
   ],
   "source": [
    "# checking df shape \n",
    "trt_df.shape"
   ]
  },
  {
   "cell_type": "code",
   "execution_count": 5,
   "id": "edf3af50",
   "metadata": {},
   "outputs": [],
   "source": [
    "# setting query from our Database\n",
    "query = '''\n",
    "select distinct order_number, order_completed_at, email\n",
    "from elsa.f_orders_union as orders\n",
    "left join elsa.dim_store_union as stores\n",
    "on orders.store_code = stores.store_code\n",
    "where\n",
    "    not coalesce(orders.is_free_order , FALSE)\n",
    "    and stores.store_category in ('US-Ecom','US-Retail')\n",
    "    and orders.is_order_complete\n",
    "    and order_completed_at >= '2023-01-01'\n",
    "    and order_completed_at < '2023-04-01'\n",
    "'''"
   ]
  },
  {
   "cell_type": "code",
   "execution_count": 6,
   "id": "b092ef00",
   "metadata": {},
   "outputs": [
    {
     "name": "stderr",
     "output_type": "stream",
     "text": [
      "2023-06-08 16:38:05,173 Found credentials in shared credentials file: ~/.aws/credentials\n",
      "2023-06-08 16:38:05,810 Connected to RedshiftDB(host='compute', autocommit=False, prod=True).\n",
      "2023-06-08 16:38:07,463 Committing transaction from context manager.\n",
      "2023-06-08 16:38:07,491 Closed connection to RedshiftDB(host='compute', autocommit=False, prod=True).\n"
     ]
    },
    {
     "data": {
      "text/html": [
       "<div>\n",
       "<style scoped>\n",
       "    .dataframe tbody tr th:only-of-type {\n",
       "        vertical-align: middle;\n",
       "    }\n",
       "\n",
       "    .dataframe tbody tr th {\n",
       "        vertical-align: top;\n",
       "    }\n",
       "\n",
       "    .dataframe thead th {\n",
       "        text-align: right;\n",
       "    }\n",
       "</style>\n",
       "<table border=\"1\" class=\"dataframe\">\n",
       "  <thead>\n",
       "    <tr style=\"text-align: right;\">\n",
       "      <th></th>\n",
       "      <th>order_number</th>\n",
       "      <th>order_completed_at</th>\n",
       "      <th>email</th>\n",
       "    </tr>\n",
       "  </thead>\n",
       "  <tbody>\n",
       "    <tr>\n",
       "      <th>0</th>\n",
       "      <td>C00448004</td>\n",
       "      <td>2023-01-27 19:19:05</td>\n",
       "      <td>d5a94eabaaee6f561917dfa9b1232cce</td>\n",
       "    </tr>\n",
       "    <tr>\n",
       "      <th>1</th>\n",
       "      <td>C00448227</td>\n",
       "      <td>2023-01-28 03:09:02</td>\n",
       "      <td>4ae2d8d5bd4eb21e0da70e46f3850778</td>\n",
       "    </tr>\n",
       "    <tr>\n",
       "      <th>2</th>\n",
       "      <td>C00456634</td>\n",
       "      <td>2023-02-15 19:30:37</td>\n",
       "      <td>694fe133f2a42436a3325a6a1da11ded</td>\n",
       "    </tr>\n",
       "    <tr>\n",
       "      <th>3</th>\n",
       "      <td>C00458370</td>\n",
       "      <td>2023-02-18 23:07:39</td>\n",
       "      <td>441f6851af162bb03c70439561955f65</td>\n",
       "    </tr>\n",
       "    <tr>\n",
       "      <th>4</th>\n",
       "      <td>C00458759</td>\n",
       "      <td>2023-02-19 16:28:17</td>\n",
       "      <td>45cb363900ac103e9113538a94c00a9f</td>\n",
       "    </tr>\n",
       "  </tbody>\n",
       "</table>\n",
       "</div>"
      ],
      "text/plain": [
       "  order_number  order_completed_at                             email\n",
       "0    C00448004 2023-01-27 19:19:05  d5a94eabaaee6f561917dfa9b1232cce\n",
       "1    C00448227 2023-01-28 03:09:02  4ae2d8d5bd4eb21e0da70e46f3850778\n",
       "2    C00456634 2023-02-15 19:30:37  694fe133f2a42436a3325a6a1da11ded\n",
       "3    C00458370 2023-02-18 23:07:39  441f6851af162bb03c70439561955f65\n",
       "4    C00458759 2023-02-19 16:28:17  45cb363900ac103e9113538a94c00a9f"
      ]
     },
     "execution_count": 6,
     "metadata": {},
     "output_type": "execute_result"
    }
   ],
   "source": [
    "# connecting to Redshift\n",
    "with RedshiftComputeDB(prod=True) as rs:\n",
    "    casperdb_customers = rs.query_to_df(query)\n",
    "\n",
    "casperdb_customers.head()"
   ]
  },
  {
   "cell_type": "code",
   "execution_count": 7,
   "id": "7bf99acc",
   "metadata": {},
   "outputs": [
    {
     "data": {
      "text/plain": [
       "order_number                  object\n",
       "order_completed_at    datetime64[ns]\n",
       "email                         object\n",
       "dtype: object"
      ]
     },
     "execution_count": 7,
     "metadata": {},
     "output_type": "execute_result"
    }
   ],
   "source": [
    "# checking datatypes from casper DB\n",
    "casperdb_customers.dtypes"
   ]
  },
  {
   "cell_type": "code",
   "execution_count": 9,
   "id": "e81c3649",
   "metadata": {},
   "outputs": [
    {
     "data": {
      "text/plain": [
       "(54770, 3)"
      ]
     },
     "execution_count": 9,
     "metadata": {},
     "output_type": "execute_result"
    }
   ],
   "source": [
    "#checking DF shape \n",
    "casperdb_customers.shape"
   ]
  },
  {
   "cell_type": "code",
   "execution_count": 18,
   "id": "df877a25",
   "metadata": {},
   "outputs": [],
   "source": [
    "# merge CTR dataframes \n",
    "ctr_customers_merged = ctr_df.merge(casperdb_customers, left_on = ['OrderNumberCUS','Md5CUS',], right_on = ['order_number','email'], how='left')\n",
    "\n",
    "\n",
    "\n"
   ]
  },
  {
   "cell_type": "code",
   "execution_count": 19,
   "id": "31416052",
   "metadata": {},
   "outputs": [
    {
     "data": {
      "text/html": [
       "<div>\n",
       "<style scoped>\n",
       "    .dataframe tbody tr th:only-of-type {\n",
       "        vertical-align: middle;\n",
       "    }\n",
       "\n",
       "    .dataframe tbody tr th {\n",
       "        vertical-align: top;\n",
       "    }\n",
       "\n",
       "    .dataframe thead th {\n",
       "        text-align: right;\n",
       "    }\n",
       "</style>\n",
       "<table border=\"1\" class=\"dataframe\">\n",
       "  <thead>\n",
       "    <tr style=\"text-align: right;\">\n",
       "      <th></th>\n",
       "      <th>ConversionDate</th>\n",
       "      <th>Md5CUS</th>\n",
       "      <th>OrderNumberCUS</th>\n",
       "      <th>order_number</th>\n",
       "      <th>order_completed_at</th>\n",
       "      <th>email</th>\n",
       "    </tr>\n",
       "  </thead>\n",
       "  <tbody>\n",
       "    <tr>\n",
       "      <th>0</th>\n",
       "      <td>2023-03-19</td>\n",
       "      <td>e1a5766ee1d273e73f4a943a0d12a35c</td>\n",
       "      <td>R545305888</td>\n",
       "      <td>R545305888</td>\n",
       "      <td>2023-03-19 20:55:06.591</td>\n",
       "      <td>e1a5766ee1d273e73f4a943a0d12a35c</td>\n",
       "    </tr>\n",
       "    <tr>\n",
       "      <th>1</th>\n",
       "      <td>2023-03-15</td>\n",
       "      <td>a32acee976888100e74dcda8f409fee2</td>\n",
       "      <td>C00470349</td>\n",
       "      <td>C00470349</td>\n",
       "      <td>2023-03-15 11:59:41.000</td>\n",
       "      <td>a32acee976888100e74dcda8f409fee2</td>\n",
       "    </tr>\n",
       "    <tr>\n",
       "      <th>2</th>\n",
       "      <td>2023-03-16</td>\n",
       "      <td>d634ad53f3838117593ba4793adde7c1</td>\n",
       "      <td>C00470881</td>\n",
       "      <td>C00470881</td>\n",
       "      <td>2023-03-16 06:14:22.000</td>\n",
       "      <td>d634ad53f3838117593ba4793adde7c1</td>\n",
       "    </tr>\n",
       "    <tr>\n",
       "      <th>3</th>\n",
       "      <td>2023-01-04</td>\n",
       "      <td>1a22bb418515935568e30623790b0ecd</td>\n",
       "      <td>R503929753</td>\n",
       "      <td>R503929753</td>\n",
       "      <td>2023-01-04 19:00:58.000</td>\n",
       "      <td>1a22bb418515935568e30623790b0ecd</td>\n",
       "    </tr>\n",
       "    <tr>\n",
       "      <th>4</th>\n",
       "      <td>2023-01-04</td>\n",
       "      <td>1a22bb418515935568e30623790b0ecd</td>\n",
       "      <td>R503929753</td>\n",
       "      <td>R503929753</td>\n",
       "      <td>2023-01-04 19:00:58.000</td>\n",
       "      <td>1a22bb418515935568e30623790b0ecd</td>\n",
       "    </tr>\n",
       "  </tbody>\n",
       "</table>\n",
       "</div>"
      ],
      "text/plain": [
       "  ConversionDate                            Md5CUS OrderNumberCUS  \\\n",
       "0     2023-03-19  e1a5766ee1d273e73f4a943a0d12a35c     R545305888   \n",
       "1     2023-03-15  a32acee976888100e74dcda8f409fee2      C00470349   \n",
       "2     2023-03-16  d634ad53f3838117593ba4793adde7c1      C00470881   \n",
       "3     2023-01-04  1a22bb418515935568e30623790b0ecd     R503929753   \n",
       "4     2023-01-04  1a22bb418515935568e30623790b0ecd     R503929753   \n",
       "\n",
       "  order_number      order_completed_at                             email  \n",
       "0   R545305888 2023-03-19 20:55:06.591  e1a5766ee1d273e73f4a943a0d12a35c  \n",
       "1    C00470349 2023-03-15 11:59:41.000  a32acee976888100e74dcda8f409fee2  \n",
       "2    C00470881 2023-03-16 06:14:22.000  d634ad53f3838117593ba4793adde7c1  \n",
       "3   R503929753 2023-01-04 19:00:58.000  1a22bb418515935568e30623790b0ecd  \n",
       "4   R503929753 2023-01-04 19:00:58.000  1a22bb418515935568e30623790b0ecd  "
      ]
     },
     "execution_count": 19,
     "metadata": {},
     "output_type": "execute_result"
    }
   ],
   "source": [
    "# viewing merged DF\n",
    "ctr_customers_merged.head()"
   ]
  },
  {
   "cell_type": "code",
   "execution_count": 20,
   "id": "9b976090",
   "metadata": {},
   "outputs": [
    {
     "data": {
      "text/plain": [
       "0"
      ]
     },
     "execution_count": 20,
     "metadata": {},
     "output_type": "execute_result"
    }
   ],
   "source": [
    "# checking for nulls\n",
    "sum(ctr_customers_merged['email'].isna())\n"
   ]
  },
  {
   "cell_type": "code",
   "execution_count": 21,
   "id": "61ddba86",
   "metadata": {},
   "outputs": [],
   "source": [
    "# exporting CSV\n",
    "ctr_customers_merged.to_csv('CTR_conversion_matched.csv')"
   ]
  },
  {
   "cell_type": "code",
   "execution_count": 22,
   "id": "514143a9",
   "metadata": {},
   "outputs": [],
   "source": [
    "# merge TRT dataframes \n",
    "\n",
    "trt_customers_merged = trt_df.merge(casperdb_customers, left_on = ['OrderNumberCUS','Md5CUS',], right_on = ['order_number','email'], how='left')\n"
   ]
  },
  {
   "cell_type": "code",
   "execution_count": 23,
   "id": "1ae60320",
   "metadata": {},
   "outputs": [
    {
     "data": {
      "text/plain": [
       "4"
      ]
     },
     "execution_count": 23,
     "metadata": {},
     "output_type": "execute_result"
    }
   ],
   "source": [
    "# checking for nulls\n",
    "\n",
    "sum(trt_customers_merged['email'].isna())\n"
   ]
  },
  {
   "cell_type": "code",
   "execution_count": 24,
   "id": "dcb57545",
   "metadata": {},
   "outputs": [
    {
     "data": {
      "text/html": [
       "<div>\n",
       "<style scoped>\n",
       "    .dataframe tbody tr th:only-of-type {\n",
       "        vertical-align: middle;\n",
       "    }\n",
       "\n",
       "    .dataframe tbody tr th {\n",
       "        vertical-align: top;\n",
       "    }\n",
       "\n",
       "    .dataframe thead th {\n",
       "        text-align: right;\n",
       "    }\n",
       "</style>\n",
       "<table border=\"1\" class=\"dataframe\">\n",
       "  <thead>\n",
       "    <tr style=\"text-align: right;\">\n",
       "      <th></th>\n",
       "      <th>ConversionDate</th>\n",
       "      <th>Md5CUS</th>\n",
       "      <th>OrderNumberCUS</th>\n",
       "      <th>order_number</th>\n",
       "      <th>order_completed_at</th>\n",
       "      <th>email</th>\n",
       "    </tr>\n",
       "  </thead>\n",
       "  <tbody>\n",
       "    <tr>\n",
       "      <th>0</th>\n",
       "      <td>2023-03-19</td>\n",
       "      <td>e1a5766ee1d273e73f4a943a0d12a35c</td>\n",
       "      <td>R545305888</td>\n",
       "      <td>R545305888</td>\n",
       "      <td>2023-03-19 20:55:06.591</td>\n",
       "      <td>e1a5766ee1d273e73f4a943a0d12a35c</td>\n",
       "    </tr>\n",
       "    <tr>\n",
       "      <th>1</th>\n",
       "      <td>2023-03-15</td>\n",
       "      <td>a32acee976888100e74dcda8f409fee2</td>\n",
       "      <td>C00470349</td>\n",
       "      <td>C00470349</td>\n",
       "      <td>2023-03-15 11:59:41.000</td>\n",
       "      <td>a32acee976888100e74dcda8f409fee2</td>\n",
       "    </tr>\n",
       "    <tr>\n",
       "      <th>2</th>\n",
       "      <td>2023-03-16</td>\n",
       "      <td>d634ad53f3838117593ba4793adde7c1</td>\n",
       "      <td>C00470881</td>\n",
       "      <td>C00470881</td>\n",
       "      <td>2023-03-16 06:14:22.000</td>\n",
       "      <td>d634ad53f3838117593ba4793adde7c1</td>\n",
       "    </tr>\n",
       "    <tr>\n",
       "      <th>3</th>\n",
       "      <td>2023-01-04</td>\n",
       "      <td>1a22bb418515935568e30623790b0ecd</td>\n",
       "      <td>R503929753</td>\n",
       "      <td>R503929753</td>\n",
       "      <td>2023-01-04 19:00:58.000</td>\n",
       "      <td>1a22bb418515935568e30623790b0ecd</td>\n",
       "    </tr>\n",
       "    <tr>\n",
       "      <th>4</th>\n",
       "      <td>2023-01-04</td>\n",
       "      <td>1a22bb418515935568e30623790b0ecd</td>\n",
       "      <td>R503929753</td>\n",
       "      <td>R503929753</td>\n",
       "      <td>2023-01-04 19:00:58.000</td>\n",
       "      <td>1a22bb418515935568e30623790b0ecd</td>\n",
       "    </tr>\n",
       "    <tr>\n",
       "      <th>5</th>\n",
       "      <td>2023-01-29</td>\n",
       "      <td>8b9eaf2aa252948f781f3f397c7c3e07</td>\n",
       "      <td>C00448915</td>\n",
       "      <td>C00448915</td>\n",
       "      <td>2023-01-29 05:06:17.000</td>\n",
       "      <td>8b9eaf2aa252948f781f3f397c7c3e07</td>\n",
       "    </tr>\n",
       "    <tr>\n",
       "      <th>6</th>\n",
       "      <td>2023-02-28</td>\n",
       "      <td>7601e0962d704e0c46472fd4fba19fba</td>\n",
       "      <td>R327164481</td>\n",
       "      <td>R327164481</td>\n",
       "      <td>2023-02-28 22:46:53.476</td>\n",
       "      <td>7601e0962d704e0c46472fd4fba19fba</td>\n",
       "    </tr>\n",
       "    <tr>\n",
       "      <th>7</th>\n",
       "      <td>2023-02-28</td>\n",
       "      <td>7601e0962d704e0c46472fd4fba19fba</td>\n",
       "      <td>R908685518</td>\n",
       "      <td>R908685518</td>\n",
       "      <td>2023-02-28 23:39:46.188</td>\n",
       "      <td>7601e0962d704e0c46472fd4fba19fba</td>\n",
       "    </tr>\n",
       "    <tr>\n",
       "      <th>8</th>\n",
       "      <td>2023-02-28</td>\n",
       "      <td>7601e0962d704e0c46472fd4fba19fba</td>\n",
       "      <td>R327164481</td>\n",
       "      <td>R327164481</td>\n",
       "      <td>2023-02-28 22:46:53.476</td>\n",
       "      <td>7601e0962d704e0c46472fd4fba19fba</td>\n",
       "    </tr>\n",
       "    <tr>\n",
       "      <th>9</th>\n",
       "      <td>2023-03-15</td>\n",
       "      <td>0b2f470d25b19c763c09e7417e99911a</td>\n",
       "      <td>R456672697</td>\n",
       "      <td>R456672697</td>\n",
       "      <td>2023-03-15 20:05:05.433</td>\n",
       "      <td>0b2f470d25b19c763c09e7417e99911a</td>\n",
       "    </tr>\n",
       "    <tr>\n",
       "      <th>10</th>\n",
       "      <td>2023-03-15</td>\n",
       "      <td>0b2f470d25b19c763c09e7417e99911a</td>\n",
       "      <td>R456672697</td>\n",
       "      <td>R456672697</td>\n",
       "      <td>2023-03-15 20:05:05.433</td>\n",
       "      <td>0b2f470d25b19c763c09e7417e99911a</td>\n",
       "    </tr>\n",
       "    <tr>\n",
       "      <th>11</th>\n",
       "      <td>2023-03-15</td>\n",
       "      <td>0b2f470d25b19c763c09e7417e99911a</td>\n",
       "      <td>R456672697</td>\n",
       "      <td>R456672697</td>\n",
       "      <td>2023-03-15 20:05:05.433</td>\n",
       "      <td>0b2f470d25b19c763c09e7417e99911a</td>\n",
       "    </tr>\n",
       "    <tr>\n",
       "      <th>12</th>\n",
       "      <td>2023-03-15</td>\n",
       "      <td>0b2f470d25b19c763c09e7417e99911a</td>\n",
       "      <td>R456672697</td>\n",
       "      <td>R456672697</td>\n",
       "      <td>2023-03-15 20:05:05.433</td>\n",
       "      <td>0b2f470d25b19c763c09e7417e99911a</td>\n",
       "    </tr>\n",
       "    <tr>\n",
       "      <th>13</th>\n",
       "      <td>2023-03-15</td>\n",
       "      <td>0b2f470d25b19c763c09e7417e99911a</td>\n",
       "      <td>R456672697</td>\n",
       "      <td>R456672697</td>\n",
       "      <td>2023-03-15 20:05:05.433</td>\n",
       "      <td>0b2f470d25b19c763c09e7417e99911a</td>\n",
       "    </tr>\n",
       "    <tr>\n",
       "      <th>14</th>\n",
       "      <td>2023-03-15</td>\n",
       "      <td>0b2f470d25b19c763c09e7417e99911a</td>\n",
       "      <td>R456672697</td>\n",
       "      <td>R456672697</td>\n",
       "      <td>2023-03-15 20:05:05.433</td>\n",
       "      <td>0b2f470d25b19c763c09e7417e99911a</td>\n",
       "    </tr>\n",
       "    <tr>\n",
       "      <th>15</th>\n",
       "      <td>2023-02-14</td>\n",
       "      <td>588ef3116c5210d5d19175ba707c58b9</td>\n",
       "      <td>R861169666</td>\n",
       "      <td>R861169666</td>\n",
       "      <td>2023-02-14 19:34:51.183</td>\n",
       "      <td>588ef3116c5210d5d19175ba707c58b9</td>\n",
       "    </tr>\n",
       "    <tr>\n",
       "      <th>16</th>\n",
       "      <td>2023-02-14</td>\n",
       "      <td>588ef3116c5210d5d19175ba707c58b9</td>\n",
       "      <td>R898997447</td>\n",
       "      <td>R898997447</td>\n",
       "      <td>2023-02-14 19:32:36.185</td>\n",
       "      <td>588ef3116c5210d5d19175ba707c58b9</td>\n",
       "    </tr>\n",
       "    <tr>\n",
       "      <th>17</th>\n",
       "      <td>2023-02-24</td>\n",
       "      <td>50c785d1085dc6004abcfa0ad7f0e5c8</td>\n",
       "      <td>R967120345</td>\n",
       "      <td>R967120345</td>\n",
       "      <td>2023-02-24 21:57:26.675</td>\n",
       "      <td>50c785d1085dc6004abcfa0ad7f0e5c8</td>\n",
       "    </tr>\n",
       "    <tr>\n",
       "      <th>18</th>\n",
       "      <td>2023-01-13</td>\n",
       "      <td>48079d556d2a669040219d059bc8ac38</td>\n",
       "      <td>R808089731</td>\n",
       "      <td>R808089731</td>\n",
       "      <td>2023-01-13 18:07:00.748</td>\n",
       "      <td>48079d556d2a669040219d059bc8ac38</td>\n",
       "    </tr>\n",
       "    <tr>\n",
       "      <th>19</th>\n",
       "      <td>2023-02-13</td>\n",
       "      <td>4d56042d0b16bd89c834c5813e496197</td>\n",
       "      <td>R257463783</td>\n",
       "      <td>R257463783</td>\n",
       "      <td>2023-02-13 20:47:10.028</td>\n",
       "      <td>4d56042d0b16bd89c834c5813e496197</td>\n",
       "    </tr>\n",
       "  </tbody>\n",
       "</table>\n",
       "</div>"
      ],
      "text/plain": [
       "   ConversionDate                            Md5CUS OrderNumberCUS  \\\n",
       "0      2023-03-19  e1a5766ee1d273e73f4a943a0d12a35c     R545305888   \n",
       "1      2023-03-15  a32acee976888100e74dcda8f409fee2      C00470349   \n",
       "2      2023-03-16  d634ad53f3838117593ba4793adde7c1      C00470881   \n",
       "3      2023-01-04  1a22bb418515935568e30623790b0ecd     R503929753   \n",
       "4      2023-01-04  1a22bb418515935568e30623790b0ecd     R503929753   \n",
       "5      2023-01-29  8b9eaf2aa252948f781f3f397c7c3e07      C00448915   \n",
       "6      2023-02-28  7601e0962d704e0c46472fd4fba19fba     R327164481   \n",
       "7      2023-02-28  7601e0962d704e0c46472fd4fba19fba     R908685518   \n",
       "8      2023-02-28  7601e0962d704e0c46472fd4fba19fba     R327164481   \n",
       "9      2023-03-15  0b2f470d25b19c763c09e7417e99911a     R456672697   \n",
       "10     2023-03-15  0b2f470d25b19c763c09e7417e99911a     R456672697   \n",
       "11     2023-03-15  0b2f470d25b19c763c09e7417e99911a     R456672697   \n",
       "12     2023-03-15  0b2f470d25b19c763c09e7417e99911a     R456672697   \n",
       "13     2023-03-15  0b2f470d25b19c763c09e7417e99911a     R456672697   \n",
       "14     2023-03-15  0b2f470d25b19c763c09e7417e99911a     R456672697   \n",
       "15     2023-02-14  588ef3116c5210d5d19175ba707c58b9     R861169666   \n",
       "16     2023-02-14  588ef3116c5210d5d19175ba707c58b9     R898997447   \n",
       "17     2023-02-24  50c785d1085dc6004abcfa0ad7f0e5c8     R967120345   \n",
       "18     2023-01-13  48079d556d2a669040219d059bc8ac38     R808089731   \n",
       "19     2023-02-13  4d56042d0b16bd89c834c5813e496197     R257463783   \n",
       "\n",
       "   order_number      order_completed_at                             email  \n",
       "0    R545305888 2023-03-19 20:55:06.591  e1a5766ee1d273e73f4a943a0d12a35c  \n",
       "1     C00470349 2023-03-15 11:59:41.000  a32acee976888100e74dcda8f409fee2  \n",
       "2     C00470881 2023-03-16 06:14:22.000  d634ad53f3838117593ba4793adde7c1  \n",
       "3    R503929753 2023-01-04 19:00:58.000  1a22bb418515935568e30623790b0ecd  \n",
       "4    R503929753 2023-01-04 19:00:58.000  1a22bb418515935568e30623790b0ecd  \n",
       "5     C00448915 2023-01-29 05:06:17.000  8b9eaf2aa252948f781f3f397c7c3e07  \n",
       "6    R327164481 2023-02-28 22:46:53.476  7601e0962d704e0c46472fd4fba19fba  \n",
       "7    R908685518 2023-02-28 23:39:46.188  7601e0962d704e0c46472fd4fba19fba  \n",
       "8    R327164481 2023-02-28 22:46:53.476  7601e0962d704e0c46472fd4fba19fba  \n",
       "9    R456672697 2023-03-15 20:05:05.433  0b2f470d25b19c763c09e7417e99911a  \n",
       "10   R456672697 2023-03-15 20:05:05.433  0b2f470d25b19c763c09e7417e99911a  \n",
       "11   R456672697 2023-03-15 20:05:05.433  0b2f470d25b19c763c09e7417e99911a  \n",
       "12   R456672697 2023-03-15 20:05:05.433  0b2f470d25b19c763c09e7417e99911a  \n",
       "13   R456672697 2023-03-15 20:05:05.433  0b2f470d25b19c763c09e7417e99911a  \n",
       "14   R456672697 2023-03-15 20:05:05.433  0b2f470d25b19c763c09e7417e99911a  \n",
       "15   R861169666 2023-02-14 19:34:51.183  588ef3116c5210d5d19175ba707c58b9  \n",
       "16   R898997447 2023-02-14 19:32:36.185  588ef3116c5210d5d19175ba707c58b9  \n",
       "17   R967120345 2023-02-24 21:57:26.675  50c785d1085dc6004abcfa0ad7f0e5c8  \n",
       "18   R808089731 2023-01-13 18:07:00.748  48079d556d2a669040219d059bc8ac38  \n",
       "19   R257463783 2023-02-13 20:47:10.028  4d56042d0b16bd89c834c5813e496197  "
      ]
     },
     "execution_count": 24,
     "metadata": {},
     "output_type": "execute_result"
    }
   ],
   "source": [
    "#viewing\n",
    "ctr_customers_merged.head(20)"
   ]
  },
  {
   "cell_type": "code",
   "execution_count": 25,
   "id": "31438fce",
   "metadata": {},
   "outputs": [
    {
     "data": {
      "text/plain": [
       "(268, 6)"
      ]
     },
     "execution_count": 25,
     "metadata": {},
     "output_type": "execute_result"
    }
   ],
   "source": [
    "# checking shape\n",
    "ctr_customers_merged.shape"
   ]
  },
  {
   "cell_type": "code",
   "execution_count": 26,
   "id": "287b45e6",
   "metadata": {},
   "outputs": [
    {
     "data": {
      "text/plain": [
       "(10383, 6)"
      ]
     },
     "execution_count": 26,
     "metadata": {},
     "output_type": "execute_result"
    }
   ],
   "source": [
    "# checking shape\n",
    "trt_customers_merged.shape"
   ]
  },
  {
   "cell_type": "code",
   "execution_count": 27,
   "id": "06d32406",
   "metadata": {},
   "outputs": [
    {
     "data": {
      "text/html": [
       "<div>\n",
       "<style scoped>\n",
       "    .dataframe tbody tr th:only-of-type {\n",
       "        vertical-align: middle;\n",
       "    }\n",
       "\n",
       "    .dataframe tbody tr th {\n",
       "        vertical-align: top;\n",
       "    }\n",
       "\n",
       "    .dataframe thead th {\n",
       "        text-align: right;\n",
       "    }\n",
       "</style>\n",
       "<table border=\"1\" class=\"dataframe\">\n",
       "  <thead>\n",
       "    <tr style=\"text-align: right;\">\n",
       "      <th></th>\n",
       "      <th>ConversionDate</th>\n",
       "      <th>Md5CUS</th>\n",
       "      <th>OrderNumberCUS</th>\n",
       "      <th>order_number</th>\n",
       "      <th>order_completed_at</th>\n",
       "      <th>email</th>\n",
       "    </tr>\n",
       "  </thead>\n",
       "  <tbody>\n",
       "    <tr>\n",
       "      <th>542</th>\n",
       "      <td>2023-03-10</td>\n",
       "      <td>98a55cbcd6f404e9d5fb734a22784d0f</td>\n",
       "      <td>R617678330</td>\n",
       "      <td>NaN</td>\n",
       "      <td>NaT</td>\n",
       "      <td>NaN</td>\n",
       "    </tr>\n",
       "    <tr>\n",
       "      <th>817</th>\n",
       "      <td>2023-03-12</td>\n",
       "      <td>1106420fea66bad1a60b76fc84a09b45</td>\n",
       "      <td>C00468912</td>\n",
       "      <td>NaN</td>\n",
       "      <td>NaT</td>\n",
       "      <td>NaN</td>\n",
       "    </tr>\n",
       "    <tr>\n",
       "      <th>819</th>\n",
       "      <td>2023-03-12</td>\n",
       "      <td>1106420fea66bad1a60b76fc84a09b45</td>\n",
       "      <td>C00468912</td>\n",
       "      <td>NaN</td>\n",
       "      <td>NaT</td>\n",
       "      <td>NaN</td>\n",
       "    </tr>\n",
       "    <tr>\n",
       "      <th>1075</th>\n",
       "      <td>2023-03-05</td>\n",
       "      <td>adbc1447b21bccbd0be9cf99b5bf782f</td>\n",
       "      <td>C00466320</td>\n",
       "      <td>NaN</td>\n",
       "      <td>NaT</td>\n",
       "      <td>NaN</td>\n",
       "    </tr>\n",
       "  </tbody>\n",
       "</table>\n",
       "</div>"
      ],
      "text/plain": [
       "     ConversionDate                            Md5CUS OrderNumberCUS  \\\n",
       "542      2023-03-10  98a55cbcd6f404e9d5fb734a22784d0f     R617678330   \n",
       "817      2023-03-12  1106420fea66bad1a60b76fc84a09b45      C00468912   \n",
       "819      2023-03-12  1106420fea66bad1a60b76fc84a09b45      C00468912   \n",
       "1075     2023-03-05  adbc1447b21bccbd0be9cf99b5bf782f      C00466320   \n",
       "\n",
       "     order_number order_completed_at email  \n",
       "542           NaN                NaT   NaN  \n",
       "817           NaN                NaT   NaN  \n",
       "819           NaN                NaT   NaN  \n",
       "1075          NaN                NaT   NaN  "
      ]
     },
     "execution_count": 27,
     "metadata": {},
     "output_type": "execute_result"
    }
   ],
   "source": [
    "# viewing null order numbers \n",
    "trt_customers_merged[trt_customers_merged['order_number'].isna()]\n"
   ]
  },
  {
   "cell_type": "code",
   "execution_count": 28,
   "id": "a3f5cbc9",
   "metadata": {},
   "outputs": [],
   "source": [
    "# exporting \n",
    "trt_customers_merged.to_csv('TRT_conversion_matched.csv')"
   ]
  },
  {
   "cell_type": "markdown",
   "id": "f538d4b6",
   "metadata": {},
   "source": [
    "# CTR Group File"
   ]
  },
  {
   "cell_type": "code",
   "execution_count": 2,
   "id": "946b28dd",
   "metadata": {},
   "outputs": [
    {
     "data": {
      "text/html": [
       "<div>\n",
       "<style scoped>\n",
       "    .dataframe tbody tr th:only-of-type {\n",
       "        vertical-align: middle;\n",
       "    }\n",
       "\n",
       "    .dataframe tbody tr th {\n",
       "        vertical-align: top;\n",
       "    }\n",
       "\n",
       "    .dataframe thead th {\n",
       "        text-align: right;\n",
       "    }\n",
       "</style>\n",
       "<table border=\"1\" class=\"dataframe\">\n",
       "  <thead>\n",
       "    <tr style=\"text-align: right;\">\n",
       "      <th></th>\n",
       "      <th>MD5</th>\n",
       "      <th>Exec_date</th>\n",
       "    </tr>\n",
       "  </thead>\n",
       "  <tbody>\n",
       "    <tr>\n",
       "      <th>0</th>\n",
       "      <td>00000ac959de1c7864daa54d10a62fbd</td>\n",
       "      <td>2023-02-14</td>\n",
       "    </tr>\n",
       "    <tr>\n",
       "      <th>1</th>\n",
       "      <td>00003552ee538065ed03dc27082a43ac</td>\n",
       "      <td>2023-02-13</td>\n",
       "    </tr>\n",
       "    <tr>\n",
       "      <th>2</th>\n",
       "      <td>00003651d7bb4f0112cdb5597cbbdcf0</td>\n",
       "      <td>2023-02-15</td>\n",
       "    </tr>\n",
       "    <tr>\n",
       "      <th>3</th>\n",
       "      <td>00003c4f2bf990815ee9f0376cbbd25a</td>\n",
       "      <td>2023-02-15</td>\n",
       "    </tr>\n",
       "    <tr>\n",
       "      <th>4</th>\n",
       "      <td>0000571828826ffbd8195947736d45fc</td>\n",
       "      <td>2023-02-16</td>\n",
       "    </tr>\n",
       "  </tbody>\n",
       "</table>\n",
       "</div>"
      ],
      "text/plain": [
       "                                MD5   Exec_date\n",
       "0  00000ac959de1c7864daa54d10a62fbd  2023-02-14\n",
       "1  00003552ee538065ed03dc27082a43ac  2023-02-13\n",
       "2  00003651d7bb4f0112cdb5597cbbdcf0  2023-02-15\n",
       "3  00003c4f2bf990815ee9f0376cbbd25a  2023-02-15\n",
       "4  0000571828826ffbd8195947736d45fc  2023-02-16"
      ]
     },
     "execution_count": 2,
     "metadata": {},
     "output_type": "execute_result"
    }
   ],
   "source": [
    "# reading control group\n",
    "control_group_df = pd.read_csv('KineticCasperMattress_Q1_2023_CTR 2.csv',sep='|',index_col=False, encoding=\"ISO-8859-1\")\n",
    "control_group_df.head()"
   ]
  },
  {
   "cell_type": "code",
   "execution_count": 3,
   "id": "0b0334c6",
   "metadata": {},
   "outputs": [
    {
     "data": {
      "text/plain": [
       "13322055"
      ]
     },
     "execution_count": 3,
     "metadata": {},
     "output_type": "execute_result"
    }
   ],
   "source": [
    "# number of rows in the control group\n",
    "len(control_group_df[\"MD5\"])"
   ]
  },
  {
   "cell_type": "code",
   "execution_count": 10,
   "id": "11901cb5",
   "metadata": {},
   "outputs": [
    {
     "data": {
      "text/plain": [
       "(13322055, 2)"
      ]
     },
     "execution_count": 10,
     "metadata": {},
     "output_type": "execute_result"
    }
   ],
   "source": [
    "#shape of the dataframe \n",
    "control_group_df.shape"
   ]
  },
  {
   "cell_type": "code",
   "execution_count": 11,
   "id": "9cf5bfa7",
   "metadata": {},
   "outputs": [],
   "source": [
    "#merging zeta file and database query \n",
    "control_merged = control_group_df.merge(casperdb_customers, left_on = ['MD5'], right_on = ['email'], how='left')\n"
   ]
  },
  {
   "cell_type": "code",
   "execution_count": 12,
   "id": "423d6209",
   "metadata": {},
   "outputs": [],
   "source": [
    "# remove any rows where DB is null\n",
    "control_nulls_removed = control_merged.dropna()"
   ]
  },
  {
   "cell_type": "code",
   "execution_count": 13,
   "id": "83b4108a",
   "metadata": {},
   "outputs": [
    {
     "data": {
      "text/plain": [
       "(433, 5)"
      ]
     },
     "execution_count": 13,
     "metadata": {},
     "output_type": "execute_result"
    }
   ],
   "source": [
    "#shape of file after removing null values\n",
    "control_nulls_removed.shape"
   ]
  },
  {
   "cell_type": "code",
   "execution_count": 14,
   "id": "73b31f68",
   "metadata": {},
   "outputs": [],
   "source": [
    "# exporting\n",
    "control_nulls_removed.to_csv('CRT_conversion_matched.csv')"
   ]
  },
  {
   "cell_type": "markdown",
   "id": "3ae77c2f",
   "metadata": {},
   "source": [
    "# TRT FILES"
   ]
  },
  {
   "cell_type": "code",
   "execution_count": 12,
   "id": "fc569680",
   "metadata": {},
   "outputs": [],
   "source": [
    "# ADDING all file names in a list\n",
    "file_names = ['KineticCasperMattress_Q1_2023_TRT_01.csv',\n",
    "         'KineticCasperMattress_Q1_2023_TRT_02.csv',\n",
    "         'KineticCasperMattress_Q1_2023_TRT_03.csv',\n",
    "         'KineticCasperMattress_Q1_2023_TRT_04.csv',\n",
    "         'KineticCasperMattress_Q1_2023_TRT_05.csv',\n",
    "         'KineticCasperMattress_Q1_2023_TRT_06.csv',\n",
    "         'KineticCasperMattress_Q1_2023_TRT_07.csv',\n",
    "         'KineticCasperMattress_Q1_2023_TRT_08.csv',\n",
    "         'KineticCasperMattress_Q1_2023_TRT_09.csv',\n",
    "         'KineticCasperMattress_Q1_2023_TRT_10.csv',\n",
    "         'KineticCasperMattress_Q1_2023_TRT_11.csv',\n",
    "         'KineticCasperMattress_Q1_2023_TRT_12.csv',\n",
    "         'KineticCasperMattress_Q1_2023_TRT_13.csv']"
   ]
  },
  {
   "cell_type": "code",
   "execution_count": 28,
   "id": "9fbb030e",
   "metadata": {},
   "outputs": [],
   "source": [
    "# reading each file, dropping nulls, and adding to a final dataframe \n",
    "df_trt_final = []\n",
    "\n",
    "for x in file_names:\n",
    "    \n",
    "    df = pd.read_csv(x ,sep='|',index_col=False, encoding=\"ISO-8859-1\")\n",
    "    df_merged = df.merge(casperdb_customers, left_on = ['MD5'], right_on = ['email'], how='left')\n",
    "    df_na_removed = df_merged.dropna()\n",
    "    df_trt_final.append(df_na_removed)\n",
    "    \n",
    "df_trt_final = pd.concat(df_trt_final)"
   ]
  },
  {
   "cell_type": "code",
   "execution_count": 29,
   "id": "f648b725",
   "metadata": {},
   "outputs": [
    {
     "data": {
      "text/plain": [
       "(13669, 7)"
      ]
     },
     "execution_count": 29,
     "metadata": {},
     "output_type": "execute_result"
    }
   ],
   "source": [
    "# checking shape of final df\n",
    "df_trt_final.shape"
   ]
  },
  {
   "cell_type": "code",
   "execution_count": 30,
   "id": "2db3f705",
   "metadata": {},
   "outputs": [],
   "source": [
    "# exporting \n",
    "df_trt_final.to_csv('TRT_conversion_matched.csv')"
   ]
  },
  {
   "cell_type": "markdown",
   "id": "16bf8691",
   "metadata": {},
   "source": [
    "## QA"
   ]
  },
  {
   "cell_type": "code",
   "execution_count": 16,
   "id": "a94b080a",
   "metadata": {},
   "outputs": [
    {
     "name": "stdout",
     "output_type": "stream",
     "text": [
      "119953679\n"
     ]
    }
   ],
   "source": [
    "\n",
    "total = 0\n",
    "for x in file_names:\n",
    "    df = pd.read_csv(x ,sep='|',index_col=False, encoding=\"ISO-8859-1\")\n",
    "    length = len(df['MD5'])\n",
    "    total = total + length\n",
    "\n",
    "print(total)"
   ]
  },
  {
   "cell_type": "code",
   "execution_count": 3,
   "id": "86396ded",
   "metadata": {},
   "outputs": [],
   "source": [
    "df2 = pd.read_csv('trt_dup.csv')"
   ]
  },
  {
   "cell_type": "code",
   "execution_count": 4,
   "id": "04903b5f",
   "metadata": {},
   "outputs": [
    {
     "data": {
      "text/html": [
       "<div>\n",
       "<style scoped>\n",
       "    .dataframe tbody tr th:only-of-type {\n",
       "        vertical-align: middle;\n",
       "    }\n",
       "\n",
       "    .dataframe tbody tr th {\n",
       "        vertical-align: top;\n",
       "    }\n",
       "\n",
       "    .dataframe thead th {\n",
       "        text-align: right;\n",
       "    }\n",
       "</style>\n",
       "<table border=\"1\" class=\"dataframe\">\n",
       "  <thead>\n",
       "    <tr style=\"text-align: right;\">\n",
       "      <th></th>\n",
       "      <th>email</th>\n",
       "      <th>order_number</th>\n",
       "      <th>Exec_date</th>\n",
       "      <th>order_completed_at</th>\n",
       "    </tr>\n",
       "  </thead>\n",
       "  <tbody>\n",
       "    <tr>\n",
       "      <th>0</th>\n",
       "      <td>0003d9500c812183b1b0637fc8f18f20</td>\n",
       "      <td>C00467795</td>\n",
       "      <td>3/8/23</td>\n",
       "      <td>3/9/23 22:03</td>\n",
       "    </tr>\n",
       "    <tr>\n",
       "      <th>1</th>\n",
       "      <td>0026fec261606c20e495b147a72f0985</td>\n",
       "      <td>C00451747</td>\n",
       "      <td>2/3/23</td>\n",
       "      <td>2/4/23 13:58</td>\n",
       "    </tr>\n",
       "    <tr>\n",
       "      <th>2</th>\n",
       "      <td>002959a0f4de518d5fd8bd2ed4651f78</td>\n",
       "      <td>R543364835</td>\n",
       "      <td>1/18/23</td>\n",
       "      <td>1/18/23 20:13</td>\n",
       "    </tr>\n",
       "    <tr>\n",
       "      <th>3</th>\n",
       "      <td>003f2ba8f3edb719ba8df41278a63a1e</td>\n",
       "      <td>R178330177</td>\n",
       "      <td>2/2/23</td>\n",
       "      <td>2/5/23 20:32</td>\n",
       "    </tr>\n",
       "    <tr>\n",
       "      <th>4</th>\n",
       "      <td>004494d850e9b40f7090aed092f4dd30</td>\n",
       "      <td>C00464705</td>\n",
       "      <td>3/1/23</td>\n",
       "      <td>3/1/23 0:19</td>\n",
       "    </tr>\n",
       "  </tbody>\n",
       "</table>\n",
       "</div>"
      ],
      "text/plain": [
       "                              email order_number Exec_date order_completed_at\n",
       "0  0003d9500c812183b1b0637fc8f18f20    C00467795    3/8/23       3/9/23 22:03\n",
       "1  0026fec261606c20e495b147a72f0985    C00451747    2/3/23       2/4/23 13:58\n",
       "2  002959a0f4de518d5fd8bd2ed4651f78   R543364835   1/18/23      1/18/23 20:13\n",
       "3  003f2ba8f3edb719ba8df41278a63a1e   R178330177    2/2/23       2/5/23 20:32\n",
       "4  004494d850e9b40f7090aed092f4dd30    C00464705    3/1/23        3/1/23 0:19"
      ]
     },
     "execution_count": 4,
     "metadata": {},
     "output_type": "execute_result"
    }
   ],
   "source": [
    "df2.head()"
   ]
  },
  {
   "cell_type": "code",
   "execution_count": 5,
   "id": "e4406f67",
   "metadata": {},
   "outputs": [
    {
     "data": {
      "text/plain": [
       "email                 object\n",
       "order_number          object\n",
       "Exec_date             object\n",
       "order_completed_at    object\n",
       "dtype: object"
      ]
     },
     "execution_count": 5,
     "metadata": {},
     "output_type": "execute_result"
    }
   ],
   "source": [
    "df2.dtypes"
   ]
  },
  {
   "cell_type": "code",
   "execution_count": 8,
   "id": "588b6cf2",
   "metadata": {},
   "outputs": [
    {
     "data": {
      "text/plain": [
       "(9422, 4)"
      ]
     },
     "execution_count": 8,
     "metadata": {},
     "output_type": "execute_result"
    }
   ],
   "source": [
    "df2.shape"
   ]
  },
  {
   "cell_type": "code",
   "execution_count": 6,
   "id": "1c0674a8",
   "metadata": {},
   "outputs": [],
   "source": [
    "df_dropped = df2.drop_duplicates(subset=[\"email\", \"order_number\"], keep='first')\n"
   ]
  },
  {
   "cell_type": "code",
   "execution_count": 9,
   "id": "51c9855a",
   "metadata": {},
   "outputs": [
    {
     "data": {
      "text/plain": [
       "(7449, 4)"
      ]
     },
     "execution_count": 9,
     "metadata": {},
     "output_type": "execute_result"
    }
   ],
   "source": [
    "df_dropped.shape"
   ]
  },
  {
   "cell_type": "code",
   "execution_count": 10,
   "id": "c892a3aa",
   "metadata": {},
   "outputs": [],
   "source": [
    "df_dropped.to_csv('trt_dup_removed.csv')"
   ]
  },
  {
   "cell_type": "code",
   "execution_count": 11,
   "id": "d5dda56d",
   "metadata": {},
   "outputs": [],
   "source": [
    "df3 = pd.read_csv('trt_dup_removed_2.csv')"
   ]
  },
  {
   "cell_type": "code",
   "execution_count": 12,
   "id": "f493afb4",
   "metadata": {},
   "outputs": [
    {
     "data": {
      "text/html": [
       "<div>\n",
       "<style scoped>\n",
       "    .dataframe tbody tr th:only-of-type {\n",
       "        vertical-align: middle;\n",
       "    }\n",
       "\n",
       "    .dataframe tbody tr th {\n",
       "        vertical-align: top;\n",
       "    }\n",
       "\n",
       "    .dataframe thead th {\n",
       "        text-align: right;\n",
       "    }\n",
       "</style>\n",
       "<table border=\"1\" class=\"dataframe\">\n",
       "  <thead>\n",
       "    <tr style=\"text-align: right;\">\n",
       "      <th></th>\n",
       "      <th>email</th>\n",
       "      <th>order_number</th>\n",
       "      <th>Exec_date</th>\n",
       "      <th>order_completed_at</th>\n",
       "    </tr>\n",
       "  </thead>\n",
       "  <tbody>\n",
       "    <tr>\n",
       "      <th>0</th>\n",
       "      <td>0003d9500c812183b1b0637fc8f18f20</td>\n",
       "      <td>C00467795</td>\n",
       "      <td>3/8/23</td>\n",
       "      <td>3/9/23 22:03</td>\n",
       "    </tr>\n",
       "    <tr>\n",
       "      <th>1</th>\n",
       "      <td>0026fec261606c20e495b147a72f0985</td>\n",
       "      <td>C00451747</td>\n",
       "      <td>2/3/23</td>\n",
       "      <td>2/4/23 13:58</td>\n",
       "    </tr>\n",
       "    <tr>\n",
       "      <th>2</th>\n",
       "      <td>002959a0f4de518d5fd8bd2ed4651f78</td>\n",
       "      <td>R543364835</td>\n",
       "      <td>1/18/23</td>\n",
       "      <td>1/18/23 20:13</td>\n",
       "    </tr>\n",
       "    <tr>\n",
       "      <th>3</th>\n",
       "      <td>003f2ba8f3edb719ba8df41278a63a1e</td>\n",
       "      <td>R178330177</td>\n",
       "      <td>2/2/23</td>\n",
       "      <td>2/5/23 20:32</td>\n",
       "    </tr>\n",
       "    <tr>\n",
       "      <th>4</th>\n",
       "      <td>004494d850e9b40f7090aed092f4dd30</td>\n",
       "      <td>C00464705</td>\n",
       "      <td>3/1/23</td>\n",
       "      <td>3/1/23 0:19</td>\n",
       "    </tr>\n",
       "  </tbody>\n",
       "</table>\n",
       "</div>"
      ],
      "text/plain": [
       "                              email order_number Exec_date order_completed_at\n",
       "0  0003d9500c812183b1b0637fc8f18f20    C00467795    3/8/23       3/9/23 22:03\n",
       "1  0026fec261606c20e495b147a72f0985    C00451747    2/3/23       2/4/23 13:58\n",
       "2  002959a0f4de518d5fd8bd2ed4651f78   R543364835   1/18/23      1/18/23 20:13\n",
       "3  003f2ba8f3edb719ba8df41278a63a1e   R178330177    2/2/23       2/5/23 20:32\n",
       "4  004494d850e9b40f7090aed092f4dd30    C00464705    3/1/23        3/1/23 0:19"
      ]
     },
     "execution_count": 12,
     "metadata": {},
     "output_type": "execute_result"
    }
   ],
   "source": [
    "df3.head()"
   ]
  },
  {
   "cell_type": "code",
   "execution_count": 13,
   "id": "406c1dd0",
   "metadata": {},
   "outputs": [],
   "source": [
    "df2_dropped = df3.drop_duplicates(subset=[\"email\"], keep='first')\n"
   ]
  },
  {
   "cell_type": "code",
   "execution_count": 14,
   "id": "73c2143f",
   "metadata": {},
   "outputs": [
    {
     "data": {
      "text/plain": [
       "(6841, 4)"
      ]
     },
     "execution_count": 14,
     "metadata": {},
     "output_type": "execute_result"
    }
   ],
   "source": [
    "df2_dropped.shape"
   ]
  },
  {
   "cell_type": "code",
   "execution_count": 15,
   "id": "f2561626",
   "metadata": {},
   "outputs": [],
   "source": [
    "df2_dropped.to_csv('trt_dup_removed_new.csv')"
   ]
  },
  {
   "cell_type": "code",
   "execution_count": null,
   "id": "b64d5a6f",
   "metadata": {},
   "outputs": [],
   "source": []
  }
 ],
 "metadata": {
  "kernelspec": {
   "display_name": "Python [conda env:pillowtalk_env] *",
   "language": "python",
   "name": "conda-env-pillowtalk_env-py"
  },
  "language_info": {
   "codemirror_mode": {
    "name": "ipython",
    "version": 3
   },
   "file_extension": ".py",
   "mimetype": "text/x-python",
   "name": "python",
   "nbconvert_exporter": "python",
   "pygments_lexer": "ipython3",
   "version": "3.7.3"
  }
 },
 "nbformat": 4,
 "nbformat_minor": 5
}
